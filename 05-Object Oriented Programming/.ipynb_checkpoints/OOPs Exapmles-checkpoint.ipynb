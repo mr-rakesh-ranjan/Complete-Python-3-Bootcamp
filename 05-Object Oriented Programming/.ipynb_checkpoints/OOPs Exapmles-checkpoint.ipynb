{
 "cells": [
  {
   "cell_type": "code",
   "execution_count": 9,
   "id": "711075db",
   "metadata": {},
   "outputs": [
    {
     "name": "stdout",
     "output_type": "stream",
     "text": [
      "<class '__main__.Test'>\n",
      "30\n",
      "10 20\n"
     ]
    }
   ],
   "source": [
    "class Test:\n",
    "    \n",
    "    def __init__(self):\n",
    "        self.a = 10\n",
    "        self.b = 20\n",
    "        \n",
    "    def add(self):\n",
    "        return self.a + self.b\n",
    "\n",
    "x = Test()\n",
    "print(type(x))\n",
    "\n",
    "ad = x.add()  #accessing the method by dot opeartor\n",
    "print(ad)\n",
    "\n",
    "t1 = x.a\n",
    "t2 = x.b\n",
    "\n",
    "print(t1, t2)"
   ]
  },
  {
   "cell_type": "code",
   "execution_count": 11,
   "id": "a6fd17b2",
   "metadata": {},
   "outputs": [
    {
     "name": "stdout",
     "output_type": "stream",
     "text": [
      "<class '__main__.Test'>\n",
      "22\n",
      "10 12\n"
     ]
    }
   ],
   "source": [
    "class Test:\n",
    "    \n",
    "    def __init__(self, a, b):\n",
    "        self.a = a\n",
    "        self.b = b\n",
    "        \n",
    "    def add(self):\n",
    "        return self.a + self.b\n",
    "\n",
    "x = Test(10, 12)\n",
    "print(type(x))\n",
    "\n",
    "ad = x.add()  #accessing the method by dot opeartor\n",
    "print(ad)\n",
    "\n",
    "t1 = x.a\n",
    "t2 = x.b\n",
    "\n",
    "print(t1, t2)"
   ]
  },
  {
   "cell_type": "code",
   "execution_count": 12,
   "id": "9b43c90d",
   "metadata": {},
   "outputs": [
    {
     "name": "stdout",
     "output_type": "stream",
     "text": [
      "enter 1st number1\n",
      "enter 2nd number2\n",
      "<class '__main__.Test'>\n",
      "3\n",
      "1 2\n"
     ]
    }
   ],
   "source": [
    "class Test:\n",
    "    \n",
    "    def __init__(self, a, b):\n",
    "        self.a = a\n",
    "        self.b = b\n",
    "        \n",
    "    def add(self):\n",
    "        return self.a + self.b\n",
    "    \n",
    "a1 = int(input(\"enter 1st number\"))\n",
    "b1 = int(input(\"enter 2nd number\"))\n",
    "    \n",
    "x = Test(a1, b1)\n",
    "print(type(x))\n",
    "\n",
    "ad = x.add()  #accessing the method by dot opeartor\n",
    "print(ad)\n",
    "\n",
    "t1 = x.a\n",
    "t2 = x.b\n",
    "\n",
    "print(t1, t2)"
   ]
  },
  {
   "cell_type": "code",
   "execution_count": null,
   "id": "619a9ae0",
   "metadata": {},
   "outputs": [],
   "source": []
  }
 ],
 "metadata": {
  "kernelspec": {
   "display_name": "Python 3 (ipykernel)",
   "language": "python",
   "name": "python3"
  },
  "language_info": {
   "codemirror_mode": {
    "name": "ipython",
    "version": 3
   },
   "file_extension": ".py",
   "mimetype": "text/x-python",
   "name": "python",
   "nbconvert_exporter": "python",
   "pygments_lexer": "ipython3",
   "version": "3.11.4"
  }
 },
 "nbformat": 4,
 "nbformat_minor": 5
}
